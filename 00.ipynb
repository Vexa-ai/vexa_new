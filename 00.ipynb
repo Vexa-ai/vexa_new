{
 "cells": [
  {
   "cell_type": "code",
   "execution_count": 1,
   "metadata": {},
   "outputs": [],
   "source": [
    "# Load environment variables from .env file\n",
    "from dotenv import load_dotenv\n",
    "\n",
    "# Load .env file\n",
    "load_dotenv()\n",
    "\n",
    "import os\n",
    "from vexa_client import VexaClient\n"
   ]
  },
  {
   "cell_type": "code",
   "execution_count": 2,
   "metadata": {},
   "outputs": [],
   "source": [
    "admin_client = VexaClient(\n",
    "    base_url=\"http://localhost:8056\",\n",
    "    admin_key=\"superwsercetkeyesuperxample\"  # From docker-compose.yml\n",
    ")"
   ]
  },
  {
   "cell_type": "code",
   "execution_count": 3,
   "metadata": {},
   "outputs": [
    {
     "name": "stdout",
     "output_type": "stream",
     "text": [
      "\n",
      "DEBUG: Making POST request to http://localhost:8056/admin/users\n",
      "DEBUG: Headers: {'Content-Type': 'application/json', 'X-Admin-API-Key': 'superwsercetkeyesuperxample'}\n",
      "DEBUG: Params: None\n",
      "DEBUG: JSON data: {'email': 'user@example.com', 'name': 'New User'}\n",
      "DEBUG: Response status: 409\n",
      "DEBUG: Response headers: {'date': 'Tue, 08 Apr 2025 12:44:08 GMT, Tue, 08 Apr 2025 12:44:07 GMT', 'server': 'uvicorn, uvicorn', 'content-length': '48', 'content-type': 'application/json'}\n",
      "DEBUG: Response content: {\"detail\":\"User with this email already exists\"}...\n"
     ]
    },
    {
     "ename": "VexaClientError",
     "evalue": "HTTP Error 409 for POST http://localhost:8056/admin/users: User with this email already exists",
     "output_type": "error",
     "traceback": [
      "\u001b[0;31m---------------------------------------------------------------------------\u001b[0m",
      "\u001b[0;31mHTTPError\u001b[0m                                 Traceback (most recent call last)",
      "File \u001b[0;32m~/test1/vexa/vexa/vexa_client.py:107\u001b[0m, in \u001b[0;36mVexaClient._request\u001b[0;34m(self, method, path, api_type, params, json_data)\u001b[0m\n\u001b[1;32m    105\u001b[0m     \u001b[38;5;28mprint\u001b[39m(\u001b[38;5;124mf\u001b[39m\u001b[38;5;124m\"\u001b[39m\u001b[38;5;124mDEBUG: Could not display response content\u001b[39m\u001b[38;5;124m\"\u001b[39m)\n\u001b[0;32m--> 107\u001b[0m \u001b[43mresponse\u001b[49m\u001b[38;5;241;43m.\u001b[39;49m\u001b[43mraise_for_status\u001b[49m\u001b[43m(\u001b[49m\u001b[43m)\u001b[49m \u001b[38;5;66;03m# Raise HTTPError for bad responses (4xx or 5xx)\u001b[39;00m\n\u001b[1;32m    109\u001b[0m \u001b[38;5;66;03m# Handle cases where response might be empty (e.g., 204 No Content)\u001b[39;00m\n",
      "File \u001b[0;32m~/anaconda3/envs/langchain/lib/python3.11/site-packages/requests/models.py:1024\u001b[0m, in \u001b[0;36mResponse.raise_for_status\u001b[0;34m(self)\u001b[0m\n\u001b[1;32m   1023\u001b[0m \u001b[38;5;28;01mif\u001b[39;00m http_error_msg:\n\u001b[0;32m-> 1024\u001b[0m     \u001b[38;5;28;01mraise\u001b[39;00m HTTPError(http_error_msg, response\u001b[38;5;241m=\u001b[39m\u001b[38;5;28mself\u001b[39m)\n",
      "\u001b[0;31mHTTPError\u001b[0m: 409 Client Error: Conflict for url: http://localhost:8056/admin/users",
      "\nThe above exception was the direct cause of the following exception:\n",
      "\u001b[0;31mVexaClientError\u001b[0m                           Traceback (most recent call last)",
      "Cell \u001b[0;32mIn[3], line 1\u001b[0m\n\u001b[0;32m----> 1\u001b[0m new_user \u001b[38;5;241m=\u001b[39m \u001b[43madmin_client\u001b[49m\u001b[38;5;241;43m.\u001b[39;49m\u001b[43mcreate_user\u001b[49m\u001b[43m(\u001b[49m\u001b[43memail\u001b[49m\u001b[38;5;241;43m=\u001b[39;49m\u001b[38;5;124;43m\"\u001b[39;49m\u001b[38;5;124;43muser@example.com\u001b[39;49m\u001b[38;5;124;43m\"\u001b[39;49m\u001b[43m,\u001b[49m\u001b[43m \u001b[49m\u001b[43mname\u001b[49m\u001b[38;5;241;43m=\u001b[39;49m\u001b[38;5;124;43m\"\u001b[39;49m\u001b[38;5;124;43mNew User\u001b[39;49m\u001b[38;5;124;43m\"\u001b[39;49m\u001b[43m)\u001b[49m\n\u001b[1;32m      2\u001b[0m user_id \u001b[38;5;241m=\u001b[39m new_user[\u001b[38;5;124m'\u001b[39m\u001b[38;5;124mid\u001b[39m\u001b[38;5;124m'\u001b[39m]\n",
      "File \u001b[0;32m~/test1/vexa/vexa/vexa_client.py:207\u001b[0m, in \u001b[0;36mVexaClient.create_user\u001b[0;34m(self, email, name, image_url)\u001b[0m\n\u001b[1;32m    205\u001b[0m \u001b[38;5;28;01mif\u001b[39;00m image_url:\n\u001b[1;32m    206\u001b[0m     payload[\u001b[38;5;124m\"\u001b[39m\u001b[38;5;124mimage_url\u001b[39m\u001b[38;5;124m\"\u001b[39m] \u001b[38;5;241m=\u001b[39m image_url\n\u001b[0;32m--> 207\u001b[0m \u001b[38;5;28;01mreturn\u001b[39;00m \u001b[38;5;28;43mself\u001b[39;49m\u001b[38;5;241;43m.\u001b[39;49m\u001b[43m_request\u001b[49m\u001b[43m(\u001b[49m\u001b[38;5;124;43m\"\u001b[39;49m\u001b[38;5;124;43mPOST\u001b[39;49m\u001b[38;5;124;43m\"\u001b[39;49m\u001b[43m,\u001b[49m\u001b[43m \u001b[49m\u001b[38;5;124;43m\"\u001b[39;49m\u001b[38;5;124;43m/admin/users\u001b[39;49m\u001b[38;5;124;43m\"\u001b[39;49m\u001b[43m,\u001b[49m\u001b[43m \u001b[49m\u001b[43mapi_type\u001b[49m\u001b[38;5;241;43m=\u001b[39;49m\u001b[38;5;124;43m'\u001b[39;49m\u001b[38;5;124;43madmin\u001b[39;49m\u001b[38;5;124;43m'\u001b[39;49m\u001b[43m,\u001b[49m\u001b[43m \u001b[49m\u001b[43mjson_data\u001b[49m\u001b[38;5;241;43m=\u001b[39;49m\u001b[43mpayload\u001b[49m\u001b[43m)\u001b[49m\n",
      "File \u001b[0;32m~/test1/vexa/vexa/vexa_client.py:123\u001b[0m, in \u001b[0;36mVexaClient._request\u001b[0;34m(self, method, path, api_type, params, json_data)\u001b[0m\n\u001b[1;32m    121\u001b[0m     \u001b[38;5;28;01mexcept\u001b[39;00m requests\u001b[38;5;241m.\u001b[39mexceptions\u001b[38;5;241m.\u001b[39mJSONDecodeError:\n\u001b[1;32m    122\u001b[0m         detail_msg \u001b[38;5;241m=\u001b[39m e\u001b[38;5;241m.\u001b[39mresponse\u001b[38;5;241m.\u001b[39mtext\n\u001b[0;32m--> 123\u001b[0m     \u001b[38;5;28;01mraise\u001b[39;00m VexaClientError(\u001b[38;5;124mf\u001b[39m\u001b[38;5;124m\"\u001b[39m\u001b[38;5;124mHTTP Error \u001b[39m\u001b[38;5;132;01m{\u001b[39;00me\u001b[38;5;241m.\u001b[39mresponse\u001b[38;5;241m.\u001b[39mstatus_code\u001b[38;5;132;01m}\u001b[39;00m\u001b[38;5;124m for \u001b[39m\u001b[38;5;132;01m{\u001b[39;00mmethod\u001b[38;5;132;01m}\u001b[39;00m\u001b[38;5;124m \u001b[39m\u001b[38;5;132;01m{\u001b[39;00murl\u001b[38;5;132;01m}\u001b[39;00m\u001b[38;5;124m: \u001b[39m\u001b[38;5;132;01m{\u001b[39;00mdetail_msg\u001b[38;5;132;01m}\u001b[39;00m\u001b[38;5;124m\"\u001b[39m) \u001b[38;5;28;01mfrom\u001b[39;00m \u001b[38;5;21;01me\u001b[39;00m\n\u001b[1;32m    124\u001b[0m \u001b[38;5;28;01mexcept\u001b[39;00m requests\u001b[38;5;241m.\u001b[39mexceptions\u001b[38;5;241m.\u001b[39mRequestException \u001b[38;5;28;01mas\u001b[39;00m e:\n\u001b[1;32m    125\u001b[0m     \u001b[38;5;28;01mraise\u001b[39;00m VexaClientError(\u001b[38;5;124mf\u001b[39m\u001b[38;5;124m\"\u001b[39m\u001b[38;5;124mRequest failed for \u001b[39m\u001b[38;5;132;01m{\u001b[39;00mmethod\u001b[38;5;132;01m}\u001b[39;00m\u001b[38;5;124m \u001b[39m\u001b[38;5;132;01m{\u001b[39;00murl\u001b[38;5;132;01m}\u001b[39;00m\u001b[38;5;124m: \u001b[39m\u001b[38;5;132;01m{\u001b[39;00me\u001b[38;5;132;01m}\u001b[39;00m\u001b[38;5;124m\"\u001b[39m) \u001b[38;5;28;01mfrom\u001b[39;00m \u001b[38;5;21;01me\u001b[39;00m\n",
      "\u001b[0;31mVexaClientError\u001b[0m: HTTP Error 409 for POST http://localhost:8056/admin/users: User with this email already exists"
     ]
    }
   ],
   "source": [
    "new_user = admin_client.create_user(email=\"user@example.com\", name=\"New User\")\n",
    "user_id = new_user['id']"
   ]
  },
  {
   "cell_type": "code",
   "execution_count": 10,
   "metadata": {},
   "outputs": [
    {
     "name": "stdout",
     "output_type": "stream",
     "text": [
      "\n",
      "DEBUG: Making POST request to http://localhost:8056/admin/users/1/tokens\n",
      "DEBUG: Headers: {'Content-Type': 'application/json', 'X-Admin-API-Key': 'superwsercetkeyesuperxample'}\n",
      "DEBUG: Params: None\n",
      "DEBUG: JSON data: None\n",
      "DEBUG: Response status: 201\n",
      "DEBUG: Response headers: {'date': 'Tue, 08 Apr 2025 12:44:53 GMT, Tue, 08 Apr 2025 12:44:52 GMT', 'server': 'uvicorn, uvicorn', 'content-length': '114', 'content-type': 'application/json'}\n",
      "DEBUG: Response content: {\"user_id\":1,\"id\":34,\"token\":\"qXpZdHndqHMUFfM5sqSYK38mWzoQqARKGjP6iSA6\",\"created_at\":\"2025-04-08T12:44:53.549129\"}...\n"
     ]
    }
   ],
   "source": [
    "token_info = admin_client.create_token(user_id=1)\n",
    "user_api_key = token_info['token']"
   ]
  },
  {
   "cell_type": "code",
   "execution_count": 11,
   "metadata": {},
   "outputs": [
    {
     "data": {
      "text/plain": [
       "'qXpZdHndqHMUFfM5sqSYK38mWzoQqARKGjP6iSA6'"
      ]
     },
     "execution_count": 11,
     "metadata": {},
     "output_type": "execute_result"
    }
   ],
   "source": [
    "user_api_key"
   ]
  },
  {
   "cell_type": "code",
   "execution_count": 12,
   "metadata": {},
   "outputs": [],
   "source": [
    "client = VexaClient(\n",
    "    base_url=\"http://localhost:8056\",\n",
    "    api_key=user_api_key\n",
    ")"
   ]
  },
  {
   "cell_type": "code",
   "execution_count": 13,
   "metadata": {},
   "outputs": [],
   "source": [
    "meeting_url=\"https://meet.google.com/qgw-efqi-jay\"\n",
    "native_meeting_id = meeting_url.split(\"/\")[-1]  # \"xyz-abcd-123\""
   ]
  },
  {
   "cell_type": "code",
   "execution_count": 14,
   "metadata": {},
   "outputs": [
    {
     "name": "stdout",
     "output_type": "stream",
     "text": [
      "\n",
      "DEBUG: Making POST request to http://localhost:8056/bots\n",
      "DEBUG: Headers: {'Content-Type': 'application/json', 'X-API-Key': 'qXpZdHndqHMUFfM5sqSYK38mWzoQqARKGjP6iSA6'}\n",
      "DEBUG: Params: None\n",
      "DEBUG: JSON data: {'platform': 'google_meet', 'native_meeting_id': 'qgw-efqi-jay', 'bot_name': 'MyBot'}\n",
      "DEBUG: Response status: 201\n",
      "DEBUG: Response headers: {'date': 'Tue, 08 Apr 2025 12:45:02 GMT, Tue, 08 Apr 2025 12:45:02 GMT', 'server': 'uvicorn, uvicorn', 'content-length': '392', 'content-type': 'application/json'}\n",
      "DEBUG: Response content: {\"id\":18,\"user_id\":1,\"platform\":\"google_meet\",\"native_meeting_id\":\"qgw-efqi-jay\",\"constructed_meeting_url\":\"https://meet.google.com/qgw-efqi-jay\",\"status\":\"active\",\"bot_container_id\":\"0382b1d2da25e21f1549ab4bea226764c1e94653b10b5dbecbd2d9f81c647367\",\"start_time\":\"2025-04-08T12:45:02.994345\",\"end_time\":null,\"created_at\":\"2025-04-08T12:45:02.756742\",\"updated_at\":\"2025-04-08T12:45:02.766278\"}...\n"
     ]
    }
   ],
   "source": [
    "meeting_info = client.request_bot(\n",
    "    platform=\"google_meet\",\n",
    "    native_meeting_id=native_meeting_id,\n",
    "    bot_name=\"MyBot\"\n",
    ")\n",
    "meeting_id = meeting_info['id']"
   ]
  },
  {
   "cell_type": "code",
   "execution_count": 9,
   "metadata": {},
   "outputs": [
    {
     "name": "stdout",
     "output_type": "stream",
     "text": [
      "\n",
      "DEBUG: Making GET request to http://localhost:8056/meetings\n",
      "DEBUG: Headers: {'Content-Type': 'application/json', 'X-API-Key': 'n4qulkIOZKa51Tx2xZfGqDTznT1gpwy2O26QUHzT'}\n",
      "DEBUG: Params: None\n",
      "DEBUG: JSON data: None\n",
      "DEBUG: Response status: 200\n",
      "DEBUG: Response headers: {'date': 'Tue, 08 Apr 2025 12:31:14 GMT, Tue, 08 Apr 2025 12:31:15 GMT', 'server': 'uvicorn, uvicorn', 'content-length': '1575', 'content-type': 'application/json'}\n",
      "DEBUG: Response content: {\"meetings\":[{\"id\":16,\"user_id\":2,\"platform\":\"google_meet\",\"native_meeting_id\":\"vvn-iqba-nxq\",\"constructed_meeting_url\":\"https://meet.google.com/vvn-iqba-nxq\",\"status\":\"active\",\"bot_container_id\":\"5f301a22165299be987bcd9f735aecc49f6fecf14d3c89baa6ee366f68bbeb8d\",\"start_time\":\"2025-04-08T12:31:10.621379\",\"end_time\":null,\"created_at\":\"2025-04-08T12:31:09.871132\",\"updated_at\":\"2025-04-08T12:31:09.887026\"},{\"id\":13,\"user_id\":2,\"platform\":\"google_meet\",\"native_meeting_id\":\"ckb-degy-mpf\",\"constructed_...\n"
     ]
    }
   ],
   "source": [
    "meetings = client.get_meetings()"
   ]
  },
  {
   "cell_type": "code",
   "execution_count": 10,
   "metadata": {},
   "outputs": [
    {
     "data": {
      "text/plain": [
       "16"
      ]
     },
     "execution_count": 10,
     "metadata": {},
     "output_type": "execute_result"
    }
   ],
   "source": [
    "meeting_id"
   ]
  },
  {
   "cell_type": "code",
   "execution_count": 11,
   "metadata": {},
   "outputs": [
    {
     "name": "stdout",
     "output_type": "stream",
     "text": [
      "\n",
      "DEBUG: Making GET request to http://localhost:8056/transcripts/google_meet/vvn-iqba-nxq\n",
      "DEBUG: Headers: {'Content-Type': 'application/json', 'X-API-Key': 'n4qulkIOZKa51Tx2xZfGqDTznT1gpwy2O26QUHzT'}\n",
      "DEBUG: Params: None\n",
      "DEBUG: JSON data: None\n",
      "DEBUG: Response status: 200\n",
      "DEBUG: Response headers: {'date': 'Tue, 08 Apr 2025 12:31:29 GMT, Tue, 08 Apr 2025 12:31:29 GMT', 'server': 'uvicorn, uvicorn', 'content-length': '224', 'content-type': 'application/json'}\n",
      "DEBUG: Response content: {\"id\":16,\"platform\":\"google_meet\",\"native_meeting_id\":\"vvn-iqba-nxq\",\"constructed_meeting_url\":\"https://meet.google.com/vvn-iqba-nxq\",\"status\":\"active\",\"start_time\":\"2025-04-08T12:31:10.621379\",\"end_time\":null,\"segments\":[]}...\n"
     ]
    }
   ],
   "source": [
    "transcript = client.get_transcript(native_meeting_id=native_meeting_id,platform='google_meet')\n",
    "segments = transcript.get('segments', [])"
   ]
  },
  {
   "cell_type": "code",
   "execution_count": 25,
   "metadata": {},
   "outputs": [],
   "source": [
    "platform = 'google_meet'"
   ]
  },
  {
   "cell_type": "code",
   "execution_count": null,
   "metadata": {},
   "outputs": [
    {
     "ename": "NameError",
     "evalue": "name 'conn' is not defined",
     "output_type": "error",
     "traceback": [
      "\u001b[0;31m---------------------------------------------------------------------------\u001b[0m",
      "\u001b[0;31mNameError\u001b[0m                                 Traceback (most recent call last)",
      "Cell \u001b[0;32mIn[26], line 1\u001b[0m\n\u001b[0;32m----> 1\u001b[0m meeting_id \u001b[38;5;241m=\u001b[39m \u001b[43mconn\u001b[49m\u001b[38;5;241m.\u001b[39mexecute(\n\u001b[1;32m      2\u001b[0m     select([metadata\u001b[38;5;241m.\u001b[39mtables[\u001b[38;5;124m'\u001b[39m\u001b[38;5;124mmeetings\u001b[39m\u001b[38;5;124m'\u001b[39m]\u001b[38;5;241m.\u001b[39mc\u001b[38;5;241m.\u001b[39mid])\u001b[38;5;241m.\u001b[39mwhere(\n\u001b[1;32m      3\u001b[0m         and_(\n\u001b[1;32m      4\u001b[0m             metadata\u001b[38;5;241m.\u001b[39mtables[\u001b[38;5;124m'\u001b[39m\u001b[38;5;124mmeetings\u001b[39m\u001b[38;5;124m'\u001b[39m]\u001b[38;5;241m.\u001b[39mc\u001b[38;5;241m.\u001b[39mnative_meeting_id \u001b[38;5;241m==\u001b[39m native_meeting_id,\n\u001b[1;32m      5\u001b[0m             metadata\u001b[38;5;241m.\u001b[39mtables[\u001b[38;5;124m'\u001b[39m\u001b[38;5;124mmeetings\u001b[39m\u001b[38;5;124m'\u001b[39m]\u001b[38;5;241m.\u001b[39mc\u001b[38;5;241m.\u001b[39mplatform \u001b[38;5;241m==\u001b[39m platform\n\u001b[1;32m      6\u001b[0m         )\n\u001b[1;32m      7\u001b[0m     )\n\u001b[1;32m      8\u001b[0m )\u001b[38;5;241m.\u001b[39mscalar()\n\u001b[1;32m     10\u001b[0m \u001b[38;5;28;01mif\u001b[39;00m \u001b[38;5;129;01mnot\u001b[39;00m meeting_id:\n\u001b[1;32m     11\u001b[0m     conn\u001b[38;5;241m.\u001b[39mclose()\n",
      "\u001b[0;31mNameError\u001b[0m: name 'conn' is not defined"
     ]
    }
   ],
   "source": [
    "\n",
    "    \n",
    "def get_transcript_segments(native_meeting_id, platform):\n",
    "    \n",
    "    \n",
    "    meeting_id = conn.execute(\n",
    "        select([metadata.tables['meetings'].c.id]).where(\n",
    "            and_(\n",
    "                metadata.tables['meetings'].c.native_meeting_id == native_meeting_id,\n",
    "                metadata.tables['meetings'].c.platform == platform\n",
    "            )\n",
    "        )\n",
    "    ).scalar()\n",
    "    \n",
    "    if not meeting_id:\n",
    "        conn.close()\n",
    "        return []\n",
    "    \n",
    "    result = conn.execute(\n",
    "        select([metadata.tables['transcript_segments']]).where(\n",
    "            metadata.tables['transcript_segments'].c.meeting_id == meeting_id\n",
    "        ).order_by(metadata.tables['transcript_segments'].c.start_time)\n",
    "    ).fetchall()\n",
    "    \n",
    "    conn.close()\n",
    "    return result\n",
    "\n",
    "if __name__ == \"__main__\":\n",
    "    print(len(get_transcript_segments(\"nav-yijy-spp\", \"google_meet\"))) "
   ]
  },
  {
   "cell_type": "code",
   "execution_count": null,
   "metadata": {},
   "outputs": [],
   "source": []
  },
  {
   "cell_type": "code",
   "execution_count": null,
   "metadata": {},
   "outputs": [],
   "source": [
    "\"\"\"Vexa API Client - Minimal Usage Snippets\"\"\"\n",
    "from vexa_client import VexaClient\n",
    "\n",
    "# --- Client Initialization ---\n",
    "# User client\n",
    "client = VexaClient(\n",
    "    base_url=\"http://localhost:8056\",\n",
    "    api_key=\"your-user-api-key\"\n",
    ")\n",
    "\n",
    "# Admin client \n",
    "admin_client = VexaClient(\n",
    "    base_url=\"http://localhost:8056\",\n",
    "    admin_key=\"supersecretadmintoken\"  # From docker-compose.yml\n",
    ")\n",
    "\n",
    "# --- Admin Operations ---\n",
    "# Create user\n",
    "new_user = admin_client.create_user(email=\"user@example.com\", name=\"New User\")\n",
    "user_id = new_user['id']"
   ]
  },
  {
   "cell_type": "code",
   "execution_count": null,
   "metadata": {},
   "outputs": [],
   "source": []
  },
  {
   "cell_type": "code",
   "execution_count": null,
   "metadata": {},
   "outputs": [],
   "source": []
  },
  {
   "cell_type": "code",
   "execution_count": null,
   "metadata": {},
   "outputs": [],
   "source": []
  }
 ],
 "metadata": {
  "kernelspec": {
   "display_name": "langchain",
   "language": "python",
   "name": "python3"
  },
  "language_info": {
   "codemirror_mode": {
    "name": "ipython",
    "version": 3
   },
   "file_extension": ".py",
   "mimetype": "text/x-python",
   "name": "python",
   "nbconvert_exporter": "python",
   "pygments_lexer": "ipython3",
   "version": "3.11.2"
  }
 },
 "nbformat": 4,
 "nbformat_minor": 2
}
