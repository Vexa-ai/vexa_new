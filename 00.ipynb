{
 "cells": [
  {
   "cell_type": "code",
   "execution_count": 1,
   "metadata": {},
   "outputs": [],
   "source": [
    "# Load environment variables from .env file\n",
    "from dotenv import load_dotenv\n",
    "\n",
    "# Load .env file\n",
    "load_dotenv()\n",
    "\n",
    "import os\n",
    "from vexa_client import VexaClient\n"
   ]
  },
  {
   "cell_type": "code",
   "execution_count": 2,
   "metadata": {},
   "outputs": [],
   "source": [
    "admin_client = VexaClient(\n",
    "    base_url=\"http://localhost:8056\",\n",
    "    admin_key=\"superwsercetkeyesuperxample\"  # From docker-compose.yml\n",
    ")"
   ]
  },
  {
   "cell_type": "code",
   "execution_count": 3,
   "metadata": {},
   "outputs": [],
   "source": [
    "import random"
   ]
  },
  {
   "cell_type": "code",
   "execution_count": null,
   "metadata": {},
   "outputs": [],
   "source": []
  },
  {
   "cell_type": "code",
   "execution_count": 4,
   "metadata": {},
   "outputs": [
    {
     "name": "stdout",
     "output_type": "stream",
     "text": [
      "\n",
      "DEBUG: Making POST request to http://localhost:8056/admin/users\n",
      "DEBUG: Headers: {'Content-Type': 'application/json', 'X-Admin-API-Key': 'superwsercetkeyesuperxample'}\n",
      "DEBUG: Params: None\n",
      "DEBUG: JSON data: {'email': '266433@example.com', 'name': 'Ilia Semukhin'}\n",
      "DEBUG: Response status: 201\n",
      "DEBUG: Response headers: {'date': 'Tue, 08 Apr 2025 16:41:54 GMT, Tue, 08 Apr 2025 16:41:54 GMT', 'server': 'uvicorn, uvicorn', 'content-length': '120', 'content-type': 'application/json'}\n",
      "DEBUG: Response content: {\"email\":\"266433@example.com\",\"name\":\"Ilia Semukhin\",\"image_url\":null,\"id\":31,\"created_at\":\"2025-04-08T16:41:55.799093\"}...\n"
     ]
    }
   ],
   "source": [
    "new_user = admin_client.create_user(email=f\"{random.randint(1, 1000000)}@example.com\", name=\"Ilia Semukhin\")\n"
   ]
  },
  {
   "cell_type": "code",
   "execution_count": 5,
   "metadata": {},
   "outputs": [],
   "source": [
    "\n",
    "user_id = new_user['id']"
   ]
  },
  {
   "cell_type": "code",
   "execution_count": 6,
   "metadata": {},
   "outputs": [
    {
     "name": "stdout",
     "output_type": "stream",
     "text": [
      "\n",
      "DEBUG: Making POST request to http://localhost:8056/admin/users/31/tokens\n",
      "DEBUG: Headers: {'Content-Type': 'application/json', 'X-Admin-API-Key': 'superwsercetkeyesuperxample'}\n",
      "DEBUG: Params: None\n",
      "DEBUG: JSON data: None\n",
      "DEBUG: Response status: 201\n",
      "DEBUG: Response headers: {'date': 'Tue, 08 Apr 2025 16:41:55 GMT, Tue, 08 Apr 2025 16:41:55 GMT', 'server': 'uvicorn, uvicorn', 'content-length': '115', 'content-type': 'application/json'}\n",
      "DEBUG: Response content: {\"user_id\":31,\"id\":64,\"token\":\"CveN6u9WHgYxGQwGBqXEEqWhkni6NfOF1DZat9sc\",\"created_at\":\"2025-04-08T16:41:56.423373\"}...\n"
     ]
    }
   ],
   "source": [
    "token_info = admin_client.create_token(user_id=user_id)\n",
    "user_api_key = token_info['token']"
   ]
  },
  {
   "cell_type": "code",
   "execution_count": 7,
   "metadata": {},
   "outputs": [
    {
     "data": {
      "text/plain": [
       "'CveN6u9WHgYxGQwGBqXEEqWhkni6NfOF1DZat9sc'"
      ]
     },
     "execution_count": 7,
     "metadata": {},
     "output_type": "execute_result"
    }
   ],
   "source": [
    "user_api_key"
   ]
  },
  {
   "cell_type": "code",
   "execution_count": 8,
   "metadata": {},
   "outputs": [],
   "source": [
    "client = VexaClient(\n",
    "    base_url=\"http://localhost:8056\",\n",
    "    api_key=user_api_key\n",
    ")"
   ]
  },
  {
   "cell_type": "code",
   "execution_count": 9,
   "metadata": {},
   "outputs": [],
   "source": [
    "meeting_url=\"https://meet.google.com/bpj-pizz-jgh\"\n",
    "native_meeting_id = meeting_url.split(\"/\")[-1]  # \"xyz-abcd-123\""
   ]
  },
  {
   "cell_type": "code",
   "execution_count": 10,
   "metadata": {},
   "outputs": [
    {
     "name": "stdout",
     "output_type": "stream",
     "text": [
      "\n",
      "DEBUG: Making POST request to http://localhost:8056/bots\n",
      "DEBUG: Headers: {'Content-Type': 'application/json', 'X-API-Key': 'CveN6u9WHgYxGQwGBqXEEqWhkni6NfOF1DZat9sc'}\n",
      "DEBUG: Params: None\n",
      "DEBUG: JSON data: {'platform': 'google_meet', 'native_meeting_id': 'bpj-pizz-jgh', 'bot_name': 'MyBot'}\n",
      "DEBUG: Response status: 201\n",
      "DEBUG: Response headers: {'date': 'Tue, 08 Apr 2025 16:41:58 GMT, Tue, 08 Apr 2025 16:41:58 GMT', 'server': 'uvicorn, uvicorn', 'content-length': '393', 'content-type': 'application/json'}\n",
      "DEBUG: Response content: {\"id\":45,\"user_id\":31,\"platform\":\"google_meet\",\"native_meeting_id\":\"bpj-pizz-jgh\",\"constructed_meeting_url\":\"https://meet.google.com/bpj-pizz-jgh\",\"status\":\"active\",\"bot_container_id\":\"992d9e01befac13d0e408c83e075542ab784b9a1b4aa13018afdacd8946347bf\",\"start_time\":\"2025-04-08T16:42:02.850867\",\"end_time\":null,\"created_at\":\"2025-04-08T16:41:59.886269\",\"updated_at\":\"2025-04-08T16:41:59.900727\"}...\n"
     ]
    }
   ],
   "source": [
    "meeting_info = client.request_bot(\n",
    "    platform=\"google_meet\",\n",
    "    native_meeting_id=native_meeting_id,\n",
    "    bot_name=\"MyBot\"\n",
    ")\n",
    "meeting_id = meeting_info['id']"
   ]
  },
  {
   "cell_type": "code",
   "execution_count": 526,
   "metadata": {},
   "outputs": [
    {
     "name": "stdout",
     "output_type": "stream",
     "text": [
      "\n",
      "DEBUG: Making GET request to http://localhost:8056/meetings\n",
      "DEBUG: Headers: {'Content-Type': 'application/json', 'X-API-Key': 'T4MMC1xeQIhuD0kpzeVHh72QnXvrQGYo4zdaeQ7K'}\n",
      "DEBUG: Params: None\n",
      "DEBUG: JSON data: None\n",
      "DEBUG: Response status: 200\n",
      "DEBUG: Response headers: {'date': 'Tue, 08 Apr 2025 15:53:33 GMT, Tue, 08 Apr 2025 15:53:33 GMT', 'server': 'uvicorn, uvicorn', 'content-length': '408', 'content-type': 'application/json'}\n",
      "DEBUG: Response content: {\"meetings\":[{\"id\":44,\"user_id\":29,\"platform\":\"google_meet\",\"native_meeting_id\":\"bpj-pizz-jgh\",\"constructed_meeting_url\":\"https://meet.google.com/bpj-pizz-jgh\",\"status\":\"active\",\"bot_container_id\":\"1f0f5978efc56b0f1bca4131775d19f86fdf10fb79e2b5fe3dd0b406944b98e6\",\"start_time\":\"2025-04-08T15:53:34.085937\",\"end_time\":null,\"created_at\":\"2025-04-08T15:53:33.794093\",\"updated_at\":\"2025-04-08T15:53:33.800850\"}]}...\n"
     ]
    }
   ],
   "source": [
    "meetings = client.get_meetings()"
   ]
  },
  {
   "cell_type": "code",
   "execution_count": 12,
   "metadata": {},
   "outputs": [
    {
     "data": {
      "text/plain": [
       "45"
      ]
     },
     "execution_count": 12,
     "metadata": {},
     "output_type": "execute_result"
    }
   ],
   "source": [
    "meeting_id"
   ]
  },
  {
   "cell_type": "code",
   "execution_count": 13,
   "metadata": {},
   "outputs": [],
   "source": [
    "import pandas as pd"
   ]
  },
  {
   "cell_type": "code",
   "execution_count": 22,
   "metadata": {},
   "outputs": [
    {
     "name": "stdout",
     "output_type": "stream",
     "text": [
      "\n",
      "DEBUG: Making GET request to http://localhost:8056/transcripts/google_meet/bpj-pizz-jgh\n",
      "DEBUG: Headers: {'Content-Type': 'application/json', 'X-API-Key': 'CveN6u9WHgYxGQwGBqXEEqWhkni6NfOF1DZat9sc'}\n",
      "DEBUG: Params: None\n",
      "DEBUG: JSON data: None\n",
      "DEBUG: Response status: 200\n",
      "DEBUG: Response headers: {'date': 'Tue, 08 Apr 2025 16:42:43 GMT, Tue, 08 Apr 2025 16:42:42 GMT', 'server': 'uvicorn, uvicorn', 'content-length': '3650', 'content-type': 'application/json'}\n",
      "DEBUG: Response content: {\"id\":45,\"platform\":\"google_meet\",\"native_meeting_id\":\"bpj-pizz-jgh\",\"constructed_meeting_url\":\"https://meet.google.com/bpj-pizz-jgh\",\"status\":\"active\",\"start_time\":\"2025-04-08T16:42:02.850867\",\"end_time\":null,\"segments\":[{\"start\":1.042,\"end\":3.042,\"text\":\" And then...\",\"language\":null,\"created_at\":\"2025-04-08T16:42:23.277141\",\"speaker\":null},{\"start\":1.042,\"end\":4.542,\"text\":\" And then we go on.\",\"language\":null,\"created_at\":\"2025-04-08T16:42:25.190326\",\"speaker\":null},{\"start\":1.042,\"end\":6.04...\n"
     ]
    },
    {
     "data": {
      "text/html": [
       "<div>\n",
       "<style scoped>\n",
       "    .dataframe tbody tr th:only-of-type {\n",
       "        vertical-align: middle;\n",
       "    }\n",
       "\n",
       "    .dataframe tbody tr th {\n",
       "        vertical-align: top;\n",
       "    }\n",
       "\n",
       "    .dataframe thead th {\n",
       "        text-align: right;\n",
       "    }\n",
       "</style>\n",
       "<table border=\"1\" class=\"dataframe\">\n",
       "  <thead>\n",
       "    <tr style=\"text-align: right;\">\n",
       "      <th></th>\n",
       "      <th>start</th>\n",
       "      <th>end</th>\n",
       "      <th>text</th>\n",
       "      <th>language</th>\n",
       "      <th>created_at</th>\n",
       "      <th>speaker</th>\n",
       "    </tr>\n",
       "  </thead>\n",
       "  <tbody>\n",
       "    <tr>\n",
       "      <th>9</th>\n",
       "      <td>1.042</td>\n",
       "      <td>8.042</td>\n",
       "      <td>And then we are waiting for the transfer.</td>\n",
       "      <td>None</td>\n",
       "      <td>2025-04-08T16:42:28.824022</td>\n",
       "      <td>None</td>\n",
       "    </tr>\n",
       "    <tr>\n",
       "      <th>10</th>\n",
       "      <td>7.042</td>\n",
       "      <td>8.637</td>\n",
       "      <td>We are waiting for transfer.</td>\n",
       "      <td>None</td>\n",
       "      <td>2025-04-08T16:42:28.962744</td>\n",
       "      <td>None</td>\n",
       "    </tr>\n",
       "    <tr>\n",
       "      <th>15</th>\n",
       "      <td>7.382</td>\n",
       "      <td>8.382</td>\n",
       "      <td>Please join us.</td>\n",
       "      <td>None</td>\n",
       "      <td>2025-04-08T16:42:31.774129</td>\n",
       "      <td>None</td>\n",
       "    </tr>\n",
       "    <tr>\n",
       "      <th>16</th>\n",
       "      <td>8.382</td>\n",
       "      <td>9.382</td>\n",
       "      <td>Keep that cocking me.</td>\n",
       "      <td>None</td>\n",
       "      <td>2025-04-08T16:42:31.774485</td>\n",
       "      <td>None</td>\n",
       "    </tr>\n",
       "    <tr>\n",
       "      <th>17</th>\n",
       "      <td>9.382</td>\n",
       "      <td>10.382</td>\n",
       "      <td>We love you, sirs.</td>\n",
       "      <td>None</td>\n",
       "      <td>2025-04-08T16:42:31.774791</td>\n",
       "      <td>None</td>\n",
       "    </tr>\n",
       "    <tr>\n",
       "      <th>22</th>\n",
       "      <td>10.382</td>\n",
       "      <td>15.202</td>\n",
       "      <td>to be done.</td>\n",
       "      <td>None</td>\n",
       "      <td>2025-04-08T16:42:35.663475</td>\n",
       "      <td>None</td>\n",
       "    </tr>\n",
       "    <tr>\n",
       "      <th>23</th>\n",
       "      <td>16.832</td>\n",
       "      <td>21.832</td>\n",
       "      <td>Well, yeah, well, it seems to be there.</td>\n",
       "      <td>None</td>\n",
       "      <td>2025-04-08T16:42:42.486440</td>\n",
       "      <td>None</td>\n",
       "    </tr>\n",
       "  </tbody>\n",
       "</table>\n",
       "</div>"
      ],
      "text/plain": [
       "     start     end                                        text language  \\\n",
       "9    1.042   8.042   And then we are waiting for the transfer.     None   \n",
       "10   7.042   8.637                We are waiting for transfer.     None   \n",
       "15   7.382   8.382                             Please join us.     None   \n",
       "16   8.382   9.382                       Keep that cocking me.     None   \n",
       "17   9.382  10.382                          We love you, sirs.     None   \n",
       "22  10.382  15.202                                 to be done.     None   \n",
       "23  16.832  21.832     Well, yeah, well, it seems to be there.     None   \n",
       "\n",
       "                    created_at speaker  \n",
       "9   2025-04-08T16:42:28.824022    None  \n",
       "10  2025-04-08T16:42:28.962744    None  \n",
       "15  2025-04-08T16:42:31.774129    None  \n",
       "16  2025-04-08T16:42:31.774485    None  \n",
       "17  2025-04-08T16:42:31.774791    None  \n",
       "22  2025-04-08T16:42:35.663475    None  \n",
       "23  2025-04-08T16:42:42.486440    None  "
      ]
     },
     "execution_count": 22,
     "metadata": {},
     "output_type": "execute_result"
    }
   ],
   "source": [
    "transcript = client.get_transcript(native_meeting_id=native_meeting_id,platform='google_meet')\n",
    "segments = transcript.get('segments', [])\n",
    "pd.DataFrame(transcript['segments']).drop_duplicates('start',keep='last')"
   ]
  },
  {
   "cell_type": "code",
   "execution_count": null,
   "metadata": {},
   "outputs": [],
   "source": []
  },
  {
   "cell_type": "code",
   "execution_count": 25,
   "metadata": {},
   "outputs": [],
   "source": [
    "platform = 'google_meet'"
   ]
  },
  {
   "cell_type": "code",
   "execution_count": null,
   "metadata": {},
   "outputs": [
    {
     "ename": "NameError",
     "evalue": "name 'conn' is not defined",
     "output_type": "error",
     "traceback": [
      "\u001b[0;31m---------------------------------------------------------------------------\u001b[0m",
      "\u001b[0;31mNameError\u001b[0m                                 Traceback (most recent call last)",
      "Cell \u001b[0;32mIn[26], line 1\u001b[0m\n\u001b[0;32m----> 1\u001b[0m meeting_id \u001b[38;5;241m=\u001b[39m \u001b[43mconn\u001b[49m\u001b[38;5;241m.\u001b[39mexecute(\n\u001b[1;32m      2\u001b[0m     select([metadata\u001b[38;5;241m.\u001b[39mtables[\u001b[38;5;124m'\u001b[39m\u001b[38;5;124mmeetings\u001b[39m\u001b[38;5;124m'\u001b[39m]\u001b[38;5;241m.\u001b[39mc\u001b[38;5;241m.\u001b[39mid])\u001b[38;5;241m.\u001b[39mwhere(\n\u001b[1;32m      3\u001b[0m         and_(\n\u001b[1;32m      4\u001b[0m             metadata\u001b[38;5;241m.\u001b[39mtables[\u001b[38;5;124m'\u001b[39m\u001b[38;5;124mmeetings\u001b[39m\u001b[38;5;124m'\u001b[39m]\u001b[38;5;241m.\u001b[39mc\u001b[38;5;241m.\u001b[39mnative_meeting_id \u001b[38;5;241m==\u001b[39m native_meeting_id,\n\u001b[1;32m      5\u001b[0m             metadata\u001b[38;5;241m.\u001b[39mtables[\u001b[38;5;124m'\u001b[39m\u001b[38;5;124mmeetings\u001b[39m\u001b[38;5;124m'\u001b[39m]\u001b[38;5;241m.\u001b[39mc\u001b[38;5;241m.\u001b[39mplatform \u001b[38;5;241m==\u001b[39m platform\n\u001b[1;32m      6\u001b[0m         )\n\u001b[1;32m      7\u001b[0m     )\n\u001b[1;32m      8\u001b[0m )\u001b[38;5;241m.\u001b[39mscalar()\n\u001b[1;32m     10\u001b[0m \u001b[38;5;28;01mif\u001b[39;00m \u001b[38;5;129;01mnot\u001b[39;00m meeting_id:\n\u001b[1;32m     11\u001b[0m     conn\u001b[38;5;241m.\u001b[39mclose()\n",
      "\u001b[0;31mNameError\u001b[0m: name 'conn' is not defined"
     ]
    }
   ],
   "source": [
    "\n",
    "    \n",
    "def get_transcript_segments(native_meeting_id, platform):\n",
    "    \n",
    "    \n",
    "    meeting_id = conn.execute(\n",
    "        select([metadata.tables['meetings'].c.id]).where(\n",
    "            and_(\n",
    "                metadata.tables['meetings'].c.native_meeting_id == native_meeting_id,\n",
    "                metadata.tables['meetings'].c.platform == platform\n",
    "            )\n",
    "        )\n",
    "    ).scalar()\n",
    "    \n",
    "    if not meeting_id:\n",
    "        conn.close()\n",
    "        return []\n",
    "    \n",
    "    result = conn.execute(\n",
    "        select([metadata.tables['transcript_segments']]).where(\n",
    "            metadata.tables['transcript_segments'].c.meeting_id == meeting_id\n",
    "        ).order_by(metadata.tables['transcript_segments'].c.start_time)\n",
    "    ).fetchall()\n",
    "    \n",
    "    conn.close()\n",
    "    return result\n",
    "\n",
    "if __name__ == \"__main__\":\n",
    "    print(len(get_transcript_segments(\"nav-yijy-spp\", \"google_meet\"))) "
   ]
  },
  {
   "cell_type": "code",
   "execution_count": null,
   "metadata": {},
   "outputs": [],
   "source": []
  },
  {
   "cell_type": "code",
   "execution_count": null,
   "metadata": {},
   "outputs": [],
   "source": [
    "\"\"\"Vexa API Client - Minimal Usage Snippets\"\"\"\n",
    "from vexa_client import VexaClient\n",
    "\n",
    "# --- Client Initialization ---\n",
    "# User client\n",
    "client = VexaClient(\n",
    "    base_url=\"http://localhost:8056\",\n",
    "    api_key=\"your-user-api-key\"\n",
    ")\n",
    "\n",
    "# Admin client \n",
    "admin_client = VexaClient(\n",
    "    base_url=\"http://localhost:8056\",\n",
    "    admin_key=\"supersecretadmintoken\"  # From docker-compose.yml\n",
    ")\n",
    "\n",
    "# --- Admin Operations ---\n",
    "# Create user\n",
    "new_user = admin_client.create_user(email=\"user@example.com\", name=\"New User\")\n",
    "user_id = new_user['id']"
   ]
  },
  {
   "cell_type": "code",
   "execution_count": null,
   "metadata": {},
   "outputs": [],
   "source": []
  },
  {
   "cell_type": "code",
   "execution_count": null,
   "metadata": {},
   "outputs": [],
   "source": []
  },
  {
   "cell_type": "code",
   "execution_count": null,
   "metadata": {},
   "outputs": [],
   "source": []
  }
 ],
 "metadata": {
  "kernelspec": {
   "display_name": "langchain",
   "language": "python",
   "name": "python3"
  },
  "language_info": {
   "codemirror_mode": {
    "name": "ipython",
    "version": 3
   },
   "file_extension": ".py",
   "mimetype": "text/x-python",
   "name": "python",
   "nbconvert_exporter": "python",
   "pygments_lexer": "ipython3",
   "version": "3.11.2"
  }
 },
 "nbformat": 4,
 "nbformat_minor": 2
}
